{
 "cells": [
  {
   "cell_type": "code",
   "execution_count": 1,
   "id": "f3465562",
   "metadata": {},
   "outputs": [],
   "source": [
    "import pandas as pd\n",
    "import numpy as np\n",
    "import matplotlib.pyplot as plt\n",
    "import seaborn as sns\n",
    "import os\n",
    "import math"
   ]
  },
  {
   "cell_type": "markdown",
   "id": "58f96074",
   "metadata": {},
   "source": [
    "## Data Preprocessing"
   ]
  },
  {
   "cell_type": "code",
   "execution_count": 2,
   "id": "c0b9d2fa",
   "metadata": {},
   "outputs": [],
   "source": [
    "#Read file exported from EDA notebook\n",
    "df = pd.read_csv(\"EDA_Dataset.csv\", encoding = 'ISO-8859-1', parse_dates=[0], dayfirst=True)"
   ]
  },
  {
   "cell_type": "code",
   "execution_count": 3,
   "id": "cf7c1f61",
   "metadata": {},
   "outputs": [],
   "source": [
    "#Read file exported from EDA notebook\n",
    "dfcheck = pd.read_csv(\"CustomerTestCellDefinition.csv\", encoding = 'ISO-8859-1', parse_dates=[0], dayfirst=True)"
   ]
  },
  {
   "cell_type": "code",
   "execution_count": 4,
   "id": "493ae516",
   "metadata": {
    "scrolled": true
   },
   "outputs": [
    {
     "data": {
      "text/html": [
       "<div>\n",
       "<style scoped>\n",
       "    .dataframe tbody tr th:only-of-type {\n",
       "        vertical-align: middle;\n",
       "    }\n",
       "\n",
       "    .dataframe tbody tr th {\n",
       "        vertical-align: top;\n",
       "    }\n",
       "\n",
       "    .dataframe thead th {\n",
       "        text-align: right;\n",
       "    }\n",
       "</style>\n",
       "<table border=\"1\" class=\"dataframe\">\n",
       "  <thead>\n",
       "    <tr style=\"text-align: right;\">\n",
       "      <th></th>\n",
       "      <th>Location ID</th>\n",
       "      <th>Customer Type</th>\n",
       "      <th>Test Cell ID</th>\n",
       "      <th>Sub Group</th>\n",
       "      <th>Extended Sub Group</th>\n",
       "      <th>In/Out Region</th>\n",
       "      <th>Data Valid Start Date</th>\n",
       "      <th>Data Valid End Date</th>\n",
       "    </tr>\n",
       "  </thead>\n",
       "  <tbody>\n",
       "    <tr>\n",
       "      <th>0</th>\n",
       "      <td>100001</td>\n",
       "      <td>SME</td>\n",
       "      <td>1b</td>\n",
       "      <td>12</td>\n",
       "      <td>NaN</td>\n",
       "      <td>0</td>\n",
       "      <td>01/09/2011</td>\n",
       "      <td>30/08/2012</td>\n",
       "    </tr>\n",
       "    <tr>\n",
       "      <th>1</th>\n",
       "      <td>100002</td>\n",
       "      <td>SME</td>\n",
       "      <td>1b</td>\n",
       "      <td>3</td>\n",
       "      <td>NaN</td>\n",
       "      <td>0</td>\n",
       "      <td>01/09/2011</td>\n",
       "      <td>30/08/2012</td>\n",
       "    </tr>\n",
       "    <tr>\n",
       "      <th>2</th>\n",
       "      <td>100003</td>\n",
       "      <td>SME</td>\n",
       "      <td>1b</td>\n",
       "      <td>28</td>\n",
       "      <td>NaN</td>\n",
       "      <td>0</td>\n",
       "      <td>01/05/2012</td>\n",
       "      <td>30/08/2012</td>\n",
       "    </tr>\n",
       "    <tr>\n",
       "      <th>3</th>\n",
       "      <td>100004</td>\n",
       "      <td>SME</td>\n",
       "      <td>1b</td>\n",
       "      <td>15</td>\n",
       "      <td>NaN</td>\n",
       "      <td>0</td>\n",
       "      <td>01/09/2011</td>\n",
       "      <td>19/07/2012</td>\n",
       "    </tr>\n",
       "    <tr>\n",
       "      <th>4</th>\n",
       "      <td>100005</td>\n",
       "      <td>SME</td>\n",
       "      <td>1b</td>\n",
       "      <td>3</td>\n",
       "      <td>NaN</td>\n",
       "      <td>0</td>\n",
       "      <td>01/09/2011</td>\n",
       "      <td>30/08/2012</td>\n",
       "    </tr>\n",
       "  </tbody>\n",
       "</table>\n",
       "</div>"
      ],
      "text/plain": [
       "  Location ID Customer Type Test Cell ID  Sub Group  Extended Sub Group  \\\n",
       "0      100001           SME           1b         12                 NaN   \n",
       "1      100002           SME           1b          3                 NaN   \n",
       "2      100003           SME           1b         28                 NaN   \n",
       "3      100004           SME           1b         15                 NaN   \n",
       "4      100005           SME           1b          3                 NaN   \n",
       "\n",
       "   In/Out Region Data Valid Start Date Data Valid End Date  \n",
       "0              0            01/09/2011          30/08/2012  \n",
       "1              0            01/09/2011          30/08/2012  \n",
       "2              0            01/05/2012          30/08/2012  \n",
       "3              0            01/09/2011          19/07/2012  \n",
       "4              0            01/09/2011          30/08/2012  "
      ]
     },
     "execution_count": 4,
     "metadata": {},
     "output_type": "execute_result"
    }
   ],
   "source": [
    "dfcheck.head()"
   ]
  },
  {
   "cell_type": "code",
   "execution_count": 5,
   "id": "114b1555",
   "metadata": {
    "scrolled": true
   },
   "outputs": [
    {
     "data": {
      "text/plain": [
       "Location ID              273\n",
       "Customer Type            273\n",
       "Test Cell ID             273\n",
       "Sub Group                273\n",
       "Extended Sub Group         0\n",
       "In/Out Region            273\n",
       "Data Valid Start Date    273\n",
       "Data Valid End Date      273\n",
       "dtype: int64"
      ]
     },
     "execution_count": 5,
     "metadata": {},
     "output_type": "execute_result"
    }
   ],
   "source": [
    "#Find locations that did not participate in full trial and assign to new dataframe\n",
    "count = dfcheck[(dfcheck['Data Valid Start Date'] != '01/09/2011') | (dfcheck['Data Valid End Date'] != '30/08/2012')].count()\n",
    "dfcheck = dfcheck[(dfcheck['Data Valid Start Date'] != '01/09/2011') | (dfcheck['Data Valid End Date'] != '30/08/2012')]\n",
    "count"
   ]
  },
  {
   "cell_type": "code",
   "execution_count": 6,
   "id": "b754f566",
   "metadata": {
    "scrolled": true
   },
   "outputs": [],
   "source": [
    "#Create column to assign invalid to these locations\n",
    "dfcheck['Invalid'] = 'Invalid'"
   ]
  },
  {
   "cell_type": "code",
   "execution_count": 7,
   "id": "c0be2b6b",
   "metadata": {
    "scrolled": true
   },
   "outputs": [
    {
     "data": {
      "text/html": [
       "<div>\n",
       "<style scoped>\n",
       "    .dataframe tbody tr th:only-of-type {\n",
       "        vertical-align: middle;\n",
       "    }\n",
       "\n",
       "    .dataframe tbody tr th {\n",
       "        vertical-align: top;\n",
       "    }\n",
       "\n",
       "    .dataframe thead th {\n",
       "        text-align: right;\n",
       "    }\n",
       "</style>\n",
       "<table border=\"1\" class=\"dataframe\">\n",
       "  <thead>\n",
       "    <tr style=\"text-align: right;\">\n",
       "      <th></th>\n",
       "      <th>Location ID</th>\n",
       "      <th>Customer Type</th>\n",
       "      <th>Test Cell ID</th>\n",
       "      <th>Sub Group</th>\n",
       "      <th>Extended Sub Group</th>\n",
       "      <th>In/Out Region</th>\n",
       "      <th>Data Valid Start Date</th>\n",
       "      <th>Data Valid End Date</th>\n",
       "      <th>Invalid</th>\n",
       "    </tr>\n",
       "  </thead>\n",
       "  <tbody>\n",
       "    <tr>\n",
       "      <th>2</th>\n",
       "      <td>100003</td>\n",
       "      <td>SME</td>\n",
       "      <td>1b</td>\n",
       "      <td>28</td>\n",
       "      <td>NaN</td>\n",
       "      <td>0</td>\n",
       "      <td>01/05/2012</td>\n",
       "      <td>30/08/2012</td>\n",
       "      <td>Invalid</td>\n",
       "    </tr>\n",
       "    <tr>\n",
       "      <th>3</th>\n",
       "      <td>100004</td>\n",
       "      <td>SME</td>\n",
       "      <td>1b</td>\n",
       "      <td>15</td>\n",
       "      <td>NaN</td>\n",
       "      <td>0</td>\n",
       "      <td>01/09/2011</td>\n",
       "      <td>19/07/2012</td>\n",
       "      <td>Invalid</td>\n",
       "    </tr>\n",
       "    <tr>\n",
       "      <th>10</th>\n",
       "      <td>100011</td>\n",
       "      <td>SME</td>\n",
       "      <td>1b</td>\n",
       "      <td>6</td>\n",
       "      <td>NaN</td>\n",
       "      <td>0</td>\n",
       "      <td>01/05/2012</td>\n",
       "      <td>30/08/2012</td>\n",
       "      <td>Invalid</td>\n",
       "    </tr>\n",
       "    <tr>\n",
       "      <th>15</th>\n",
       "      <td>100016</td>\n",
       "      <td>SME</td>\n",
       "      <td>1b</td>\n",
       "      <td>8</td>\n",
       "      <td>NaN</td>\n",
       "      <td>0</td>\n",
       "      <td>01/09/2011</td>\n",
       "      <td>03/07/2012</td>\n",
       "      <td>Invalid</td>\n",
       "    </tr>\n",
       "    <tr>\n",
       "      <th>19</th>\n",
       "      <td>100020</td>\n",
       "      <td>SME</td>\n",
       "      <td>1b</td>\n",
       "      <td>24</td>\n",
       "      <td>NaN</td>\n",
       "      <td>0</td>\n",
       "      <td>01/05/2012</td>\n",
       "      <td>30/08/2012</td>\n",
       "      <td>Invalid</td>\n",
       "    </tr>\n",
       "  </tbody>\n",
       "</table>\n",
       "</div>"
      ],
      "text/plain": [
       "   Location ID Customer Type Test Cell ID  Sub Group  Extended Sub Group  \\\n",
       "2       100003           SME           1b         28                 NaN   \n",
       "3       100004           SME           1b         15                 NaN   \n",
       "10      100011           SME           1b          6                 NaN   \n",
       "15      100016           SME           1b          8                 NaN   \n",
       "19      100020           SME           1b         24                 NaN   \n",
       "\n",
       "    In/Out Region Data Valid Start Date Data Valid End Date  Invalid  \n",
       "2               0            01/05/2012          30/08/2012  Invalid  \n",
       "3               0            01/09/2011          19/07/2012  Invalid  \n",
       "10              0            01/05/2012          30/08/2012  Invalid  \n",
       "15              0            01/09/2011          03/07/2012  Invalid  \n",
       "19              0            01/05/2012          30/08/2012  Invalid  "
      ]
     },
     "execution_count": 7,
     "metadata": {},
     "output_type": "execute_result"
    }
   ],
   "source": [
    "dfcheck.head()"
   ]
  },
  {
   "cell_type": "code",
   "execution_count": 8,
   "id": "c6d6af1a",
   "metadata": {
    "scrolled": true
   },
   "outputs": [],
   "source": [
    "#Select only Location and Invalid columns and assign to dataframe\n",
    "dfcheck = dfcheck.loc[:, ['Location ID','Invalid']] "
   ]
  },
  {
   "cell_type": "code",
   "execution_count": 9,
   "id": "52558bbf",
   "metadata": {},
   "outputs": [
    {
     "data": {
      "text/html": [
       "<div>\n",
       "<style scoped>\n",
       "    .dataframe tbody tr th:only-of-type {\n",
       "        vertical-align: middle;\n",
       "    }\n",
       "\n",
       "    .dataframe tbody tr th {\n",
       "        vertical-align: top;\n",
       "    }\n",
       "\n",
       "    .dataframe thead th {\n",
       "        text-align: right;\n",
       "    }\n",
       "</style>\n",
       "<table border=\"1\" class=\"dataframe\">\n",
       "  <thead>\n",
       "    <tr style=\"text-align: right;\">\n",
       "      <th></th>\n",
       "      <th>Location ID</th>\n",
       "      <th>Invalid</th>\n",
       "    </tr>\n",
       "  </thead>\n",
       "  <tbody>\n",
       "    <tr>\n",
       "      <th>2</th>\n",
       "      <td>100003</td>\n",
       "      <td>Invalid</td>\n",
       "    </tr>\n",
       "    <tr>\n",
       "      <th>3</th>\n",
       "      <td>100004</td>\n",
       "      <td>Invalid</td>\n",
       "    </tr>\n",
       "    <tr>\n",
       "      <th>10</th>\n",
       "      <td>100011</td>\n",
       "      <td>Invalid</td>\n",
       "    </tr>\n",
       "    <tr>\n",
       "      <th>15</th>\n",
       "      <td>100016</td>\n",
       "      <td>Invalid</td>\n",
       "    </tr>\n",
       "    <tr>\n",
       "      <th>19</th>\n",
       "      <td>100020</td>\n",
       "      <td>Invalid</td>\n",
       "    </tr>\n",
       "  </tbody>\n",
       "</table>\n",
       "</div>"
      ],
      "text/plain": [
       "   Location ID  Invalid\n",
       "2       100003  Invalid\n",
       "3       100004  Invalid\n",
       "10      100011  Invalid\n",
       "15      100016  Invalid\n",
       "19      100020  Invalid"
      ]
     },
     "execution_count": 9,
     "metadata": {},
     "output_type": "execute_result"
    }
   ],
   "source": [
    "dfcheck.head()"
   ]
  },
  {
   "cell_type": "code",
   "execution_count": 10,
   "id": "deaa4821",
   "metadata": {},
   "outputs": [],
   "source": [
    "#Convert to datetime\n",
    "df['Date and Time of capture'] = pd.to_datetime(df['Date and Time of capture'], format='%Y/%m/%d %H:%M:%S')"
   ]
  },
  {
   "cell_type": "code",
   "execution_count": 11,
   "id": "7de9722e",
   "metadata": {},
   "outputs": [
    {
     "data": {
      "text/plain": [
       "Timestamp('2012-08-30 23:30:00')"
      ]
     },
     "execution_count": 11,
     "metadata": {},
     "output_type": "execute_result"
    }
   ],
   "source": [
    "#Find last date on EDA dataframe \n",
    "df['Date and Time of capture'].max()"
   ]
  },
  {
   "cell_type": "code",
   "execution_count": 12,
   "id": "de82ffb1",
   "metadata": {
    "scrolled": false
   },
   "outputs": [
    {
     "data": {
      "text/plain": [
       "1783"
      ]
     },
     "execution_count": 12,
     "metadata": {},
     "output_type": "execute_result"
    }
   ],
   "source": [
    "#Count number of unique Locations\n",
    "df['Location ID'].nunique()"
   ]
  },
  {
   "cell_type": "code",
   "execution_count": 13,
   "id": "7fb5575c",
   "metadata": {},
   "outputs": [
    {
     "data": {
      "text/plain": [
       "17520"
      ]
     },
     "execution_count": 13,
     "metadata": {},
     "output_type": "execute_result"
    }
   ],
   "source": [
    "#Find maximum number of readings a location can have\n",
    "df.groupby(by='Location ID')['Date and Time of capture'].count().max()"
   ]
  },
  {
   "cell_type": "code",
   "execution_count": 14,
   "id": "7a65f276",
   "metadata": {},
   "outputs": [],
   "source": [
    "#Create series with count values\n",
    "df1 = df.groupby(by='Location ID')['Date and Time of capture'].count()"
   ]
  },
  {
   "cell_type": "code",
   "execution_count": 15,
   "id": "c581bc9d",
   "metadata": {},
   "outputs": [
    {
     "data": {
      "text/plain": [
       "873"
      ]
     },
     "execution_count": 15,
     "metadata": {},
     "output_type": "execute_result"
    }
   ],
   "source": [
    "#Count of incomplete locations\n",
    "df1.loc[df.groupby(by='Location ID')['Date and Time of capture'].count() < 17520 ].count()"
   ]
  },
  {
   "cell_type": "code",
   "execution_count": 16,
   "id": "aacba86b",
   "metadata": {},
   "outputs": [
    {
     "data": {
      "text/plain": [
       "Location ID\n",
       "100001    17517\n",
       "100002     7265\n",
       "100003     5856\n",
       "100004    15481\n",
       "100005    17517\n",
       "          ...  \n",
       "101783    17520\n",
       "101784     5856\n",
       "101785     9430\n",
       "101786    17510\n",
       "101787    17520\n",
       "Name: Date and Time of capture, Length: 1783, dtype: int64"
      ]
     },
     "execution_count": 16,
     "metadata": {},
     "output_type": "execute_result"
    }
   ],
   "source": [
    "#Display series\n",
    "df1"
   ]
  },
  {
   "cell_type": "code",
   "execution_count": 17,
   "id": "ef7186bd",
   "metadata": {
    "scrolled": true
   },
   "outputs": [
    {
     "data": {
      "text/plain": [
       "(1783,)"
      ]
     },
     "execution_count": 17,
     "metadata": {},
     "output_type": "execute_result"
    }
   ],
   "source": [
    "#Shape of series\n",
    "df1.shape"
   ]
  },
  {
   "cell_type": "code",
   "execution_count": 18,
   "id": "fb47355e",
   "metadata": {},
   "outputs": [
    {
     "data": {
      "text/html": [
       "<div>\n",
       "<style scoped>\n",
       "    .dataframe tbody tr th:only-of-type {\n",
       "        vertical-align: middle;\n",
       "    }\n",
       "\n",
       "    .dataframe tbody tr th {\n",
       "        vertical-align: top;\n",
       "    }\n",
       "\n",
       "    .dataframe thead th {\n",
       "        text-align: right;\n",
       "    }\n",
       "</style>\n",
       "<table border=\"1\" class=\"dataframe\">\n",
       "  <thead>\n",
       "    <tr style=\"text-align: right;\">\n",
       "      <th></th>\n",
       "      <th>Date and Time of capture</th>\n",
       "    </tr>\n",
       "    <tr>\n",
       "      <th>Location ID</th>\n",
       "      <th></th>\n",
       "    </tr>\n",
       "  </thead>\n",
       "  <tbody>\n",
       "    <tr>\n",
       "      <th>100001</th>\n",
       "      <td>17517</td>\n",
       "    </tr>\n",
       "    <tr>\n",
       "      <th>100002</th>\n",
       "      <td>7265</td>\n",
       "    </tr>\n",
       "    <tr>\n",
       "      <th>100003</th>\n",
       "      <td>5856</td>\n",
       "    </tr>\n",
       "    <tr>\n",
       "      <th>100004</th>\n",
       "      <td>15481</td>\n",
       "    </tr>\n",
       "    <tr>\n",
       "      <th>100005</th>\n",
       "      <td>17517</td>\n",
       "    </tr>\n",
       "    <tr>\n",
       "      <th>...</th>\n",
       "      <td>...</td>\n",
       "    </tr>\n",
       "    <tr>\n",
       "      <th>101783</th>\n",
       "      <td>17520</td>\n",
       "    </tr>\n",
       "    <tr>\n",
       "      <th>101784</th>\n",
       "      <td>5856</td>\n",
       "    </tr>\n",
       "    <tr>\n",
       "      <th>101785</th>\n",
       "      <td>9430</td>\n",
       "    </tr>\n",
       "    <tr>\n",
       "      <th>101786</th>\n",
       "      <td>17510</td>\n",
       "    </tr>\n",
       "    <tr>\n",
       "      <th>101787</th>\n",
       "      <td>17520</td>\n",
       "    </tr>\n",
       "  </tbody>\n",
       "</table>\n",
       "<p>1783 rows × 1 columns</p>\n",
       "</div>"
      ],
      "text/plain": [
       "             Date and Time of capture\n",
       "Location ID                          \n",
       "100001                          17517\n",
       "100002                           7265\n",
       "100003                           5856\n",
       "100004                          15481\n",
       "100005                          17517\n",
       "...                               ...\n",
       "101783                          17520\n",
       "101784                           5856\n",
       "101785                           9430\n",
       "101786                          17510\n",
       "101787                          17520\n",
       "\n",
       "[1783 rows x 1 columns]"
      ]
     },
     "execution_count": 18,
     "metadata": {},
     "output_type": "execute_result"
    }
   ],
   "source": [
    "#Convert series to dataframe\n",
    "df1.to_frame()"
   ]
  },
  {
   "cell_type": "code",
   "execution_count": 19,
   "id": "e084d333",
   "metadata": {},
   "outputs": [],
   "source": [
    "#Merge count dataframe with EDA dataframe on Location ID\n",
    "df2 = (pd.merge(df, df1, on='Location ID'))"
   ]
  },
  {
   "cell_type": "code",
   "execution_count": 20,
   "id": "803f3133",
   "metadata": {},
   "outputs": [],
   "source": [
    "#Convert Location ID to integer\n",
    "dfcheck[\"Location ID\"] = dfcheck[\"Location ID\"].astype(int)"
   ]
  },
  {
   "cell_type": "code",
   "execution_count": 21,
   "id": "ae9883b8",
   "metadata": {},
   "outputs": [],
   "source": [
    "#Merge invalid dataframe with df2 on Location ID\n",
    "df2 = (pd.merge(df2, dfcheck, on='Location ID', how='left'))"
   ]
  },
  {
   "cell_type": "code",
   "execution_count": 22,
   "id": "a535bcee",
   "metadata": {
    "scrolled": true
   },
   "outputs": [
    {
     "data": {
      "text/html": [
       "<div>\n",
       "<style scoped>\n",
       "    .dataframe tbody tr th:only-of-type {\n",
       "        vertical-align: middle;\n",
       "    }\n",
       "\n",
       "    .dataframe tbody tr th {\n",
       "        vertical-align: top;\n",
       "    }\n",
       "\n",
       "    .dataframe thead th {\n",
       "        text-align: right;\n",
       "    }\n",
       "</style>\n",
       "<table border=\"1\" class=\"dataframe\">\n",
       "  <thead>\n",
       "    <tr style=\"text-align: right;\">\n",
       "      <th></th>\n",
       "      <th>Unnamed: 0</th>\n",
       "      <th>Location ID</th>\n",
       "      <th>Measurement Description</th>\n",
       "      <th>Parameter Type and Units</th>\n",
       "      <th>Date and Time of capture_x</th>\n",
       "      <th>Parameter</th>\n",
       "      <th>Date</th>\n",
       "      <th>Month</th>\n",
       "      <th>Year</th>\n",
       "      <th>Quarter</th>\n",
       "      <th>DayOfWeek</th>\n",
       "      <th>Hour</th>\n",
       "      <th>Season</th>\n",
       "      <th>Date and Time of capture_y</th>\n",
       "      <th>Invalid</th>\n",
       "    </tr>\n",
       "  </thead>\n",
       "  <tbody>\n",
       "    <tr>\n",
       "      <th>0</th>\n",
       "      <td>0</td>\n",
       "      <td>100600</td>\n",
       "      <td>Electricity supply meter</td>\n",
       "      <td>Consumption in period [kWh]</td>\n",
       "      <td>2012-03-01 00:00:00</td>\n",
       "      <td>0.893</td>\n",
       "      <td>2012-03-01 00:00:00</td>\n",
       "      <td>3</td>\n",
       "      <td>2012</td>\n",
       "      <td>1</td>\n",
       "      <td>Thursday</td>\n",
       "      <td>00:00:00</td>\n",
       "      <td>Winter</td>\n",
       "      <td>17520</td>\n",
       "      <td>NaN</td>\n",
       "    </tr>\n",
       "    <tr>\n",
       "      <th>1</th>\n",
       "      <td>1</td>\n",
       "      <td>100600</td>\n",
       "      <td>Electricity supply meter</td>\n",
       "      <td>Consumption in period [kWh]</td>\n",
       "      <td>2012-03-01 00:30:00</td>\n",
       "      <td>0.824</td>\n",
       "      <td>2012-03-01 00:30:00</td>\n",
       "      <td>3</td>\n",
       "      <td>2012</td>\n",
       "      <td>1</td>\n",
       "      <td>Thursday</td>\n",
       "      <td>00:30:00</td>\n",
       "      <td>Winter</td>\n",
       "      <td>17520</td>\n",
       "      <td>NaN</td>\n",
       "    </tr>\n",
       "    <tr>\n",
       "      <th>2</th>\n",
       "      <td>2</td>\n",
       "      <td>100600</td>\n",
       "      <td>Electricity supply meter</td>\n",
       "      <td>Consumption in period [kWh]</td>\n",
       "      <td>2012-03-01 01:00:00</td>\n",
       "      <td>0.795</td>\n",
       "      <td>2012-03-01 01:00:00</td>\n",
       "      <td>3</td>\n",
       "      <td>2012</td>\n",
       "      <td>1</td>\n",
       "      <td>Thursday</td>\n",
       "      <td>01:00:00</td>\n",
       "      <td>Winter</td>\n",
       "      <td>17520</td>\n",
       "      <td>NaN</td>\n",
       "    </tr>\n",
       "    <tr>\n",
       "      <th>3</th>\n",
       "      <td>3</td>\n",
       "      <td>100600</td>\n",
       "      <td>Electricity supply meter</td>\n",
       "      <td>Consumption in period [kWh]</td>\n",
       "      <td>2012-03-01 01:30:00</td>\n",
       "      <td>0.847</td>\n",
       "      <td>2012-03-01 01:30:00</td>\n",
       "      <td>3</td>\n",
       "      <td>2012</td>\n",
       "      <td>1</td>\n",
       "      <td>Thursday</td>\n",
       "      <td>01:30:00</td>\n",
       "      <td>Winter</td>\n",
       "      <td>17520</td>\n",
       "      <td>NaN</td>\n",
       "    </tr>\n",
       "    <tr>\n",
       "      <th>4</th>\n",
       "      <td>4</td>\n",
       "      <td>100600</td>\n",
       "      <td>Electricity supply meter</td>\n",
       "      <td>Consumption in period [kWh]</td>\n",
       "      <td>2012-03-01 02:00:00</td>\n",
       "      <td>0.730</td>\n",
       "      <td>2012-03-01 02:00:00</td>\n",
       "      <td>3</td>\n",
       "      <td>2012</td>\n",
       "      <td>1</td>\n",
       "      <td>Thursday</td>\n",
       "      <td>02:00:00</td>\n",
       "      <td>Winter</td>\n",
       "      <td>17520</td>\n",
       "      <td>NaN</td>\n",
       "    </tr>\n",
       "  </tbody>\n",
       "</table>\n",
       "</div>"
      ],
      "text/plain": [
       "  Unnamed: 0  Location ID   Measurement Description  \\\n",
       "0          0       100600  Electricity supply meter   \n",
       "1          1       100600  Electricity supply meter   \n",
       "2          2       100600  Electricity supply meter   \n",
       "3          3       100600  Electricity supply meter   \n",
       "4          4       100600  Electricity supply meter   \n",
       "\n",
       "      Parameter Type and Units Date and Time of capture_x  Parameter  \\\n",
       "0  Consumption in period [kWh]        2012-03-01 00:00:00      0.893   \n",
       "1  Consumption in period [kWh]        2012-03-01 00:30:00      0.824   \n",
       "2  Consumption in period [kWh]        2012-03-01 01:00:00      0.795   \n",
       "3  Consumption in period [kWh]        2012-03-01 01:30:00      0.847   \n",
       "4  Consumption in period [kWh]        2012-03-01 02:00:00      0.730   \n",
       "\n",
       "                  Date  Month  Year  Quarter DayOfWeek      Hour  Season  \\\n",
       "0  2012-03-01 00:00:00      3  2012        1  Thursday  00:00:00  Winter   \n",
       "1  2012-03-01 00:30:00      3  2012        1  Thursday  00:30:00  Winter   \n",
       "2  2012-03-01 01:00:00      3  2012        1  Thursday  01:00:00  Winter   \n",
       "3  2012-03-01 01:30:00      3  2012        1  Thursday  01:30:00  Winter   \n",
       "4  2012-03-01 02:00:00      3  2012        1  Thursday  02:00:00  Winter   \n",
       "\n",
       "   Date and Time of capture_y Invalid  \n",
       "0                       17520     NaN  \n",
       "1                       17520     NaN  \n",
       "2                       17520     NaN  \n",
       "3                       17520     NaN  \n",
       "4                       17520     NaN  "
      ]
     },
     "execution_count": 22,
     "metadata": {},
     "output_type": "execute_result"
    }
   ],
   "source": [
    "df2.head()"
   ]
  },
  {
   "cell_type": "code",
   "execution_count": 23,
   "id": "356e8334",
   "metadata": {},
   "outputs": [],
   "source": [
    "#Assign all invalid records to check dataframe\n",
    "dfcheck = df2.loc[(df2['Invalid'] == 'Invalid')]"
   ]
  },
  {
   "cell_type": "code",
   "execution_count": 24,
   "id": "7f259784",
   "metadata": {},
   "outputs": [
    {
     "data": {
      "text/plain": [
       "273"
      ]
     },
     "execution_count": 24,
     "metadata": {},
     "output_type": "execute_result"
    }
   ],
   "source": [
    "#Ensure count is consistent with previous count\n",
    "dfcheck['Location ID'].nunique()"
   ]
  },
  {
   "cell_type": "code",
   "execution_count": 25,
   "id": "319beb99",
   "metadata": {},
   "outputs": [
    {
     "data": {
      "text/html": [
       "<div>\n",
       "<style scoped>\n",
       "    .dataframe tbody tr th:only-of-type {\n",
       "        vertical-align: middle;\n",
       "    }\n",
       "\n",
       "    .dataframe tbody tr th {\n",
       "        vertical-align: top;\n",
       "    }\n",
       "\n",
       "    .dataframe thead th {\n",
       "        text-align: right;\n",
       "    }\n",
       "</style>\n",
       "<table border=\"1\" class=\"dataframe\">\n",
       "  <thead>\n",
       "    <tr style=\"text-align: right;\">\n",
       "      <th></th>\n",
       "      <th>Unnamed: 0</th>\n",
       "      <th>Location ID</th>\n",
       "      <th>Measurement Description</th>\n",
       "      <th>Parameter Type and Units</th>\n",
       "      <th>Date and Time of capture_x</th>\n",
       "      <th>Parameter</th>\n",
       "      <th>Date</th>\n",
       "      <th>Month</th>\n",
       "      <th>Year</th>\n",
       "      <th>Quarter</th>\n",
       "      <th>DayOfWeek</th>\n",
       "      <th>Hour</th>\n",
       "      <th>Season</th>\n",
       "      <th>Date and Time of capture_y</th>\n",
       "      <th>Invalid</th>\n",
       "    </tr>\n",
       "  </thead>\n",
       "  <tbody>\n",
       "    <tr>\n",
       "      <th>105116</th>\n",
       "      <td>288</td>\n",
       "      <td>101155</td>\n",
       "      <td>Electricity supply meter</td>\n",
       "      <td>Consumption in period [kWh]</td>\n",
       "      <td>2012-03-01 00:00:00</td>\n",
       "      <td>0.112</td>\n",
       "      <td>2012-03-01 00:00:00</td>\n",
       "      <td>3</td>\n",
       "      <td>2012</td>\n",
       "      <td>1</td>\n",
       "      <td>Thursday</td>\n",
       "      <td>00:00:00</td>\n",
       "      <td>Winter</td>\n",
       "      <td>14945</td>\n",
       "      <td>Invalid</td>\n",
       "    </tr>\n",
       "    <tr>\n",
       "      <th>105117</th>\n",
       "      <td>289</td>\n",
       "      <td>101155</td>\n",
       "      <td>Electricity supply meter</td>\n",
       "      <td>Consumption in period [kWh]</td>\n",
       "      <td>2012-03-01 00:30:00</td>\n",
       "      <td>0.116</td>\n",
       "      <td>2012-03-01 00:30:00</td>\n",
       "      <td>3</td>\n",
       "      <td>2012</td>\n",
       "      <td>1</td>\n",
       "      <td>Thursday</td>\n",
       "      <td>00:30:00</td>\n",
       "      <td>Winter</td>\n",
       "      <td>14945</td>\n",
       "      <td>Invalid</td>\n",
       "    </tr>\n",
       "    <tr>\n",
       "      <th>105118</th>\n",
       "      <td>290</td>\n",
       "      <td>101155</td>\n",
       "      <td>Electricity supply meter</td>\n",
       "      <td>Consumption in period [kWh]</td>\n",
       "      <td>2012-03-01 01:00:00</td>\n",
       "      <td>0.115</td>\n",
       "      <td>2012-03-01 01:00:00</td>\n",
       "      <td>3</td>\n",
       "      <td>2012</td>\n",
       "      <td>1</td>\n",
       "      <td>Thursday</td>\n",
       "      <td>01:00:00</td>\n",
       "      <td>Winter</td>\n",
       "      <td>14945</td>\n",
       "      <td>Invalid</td>\n",
       "    </tr>\n",
       "    <tr>\n",
       "      <th>105119</th>\n",
       "      <td>291</td>\n",
       "      <td>101155</td>\n",
       "      <td>Electricity supply meter</td>\n",
       "      <td>Consumption in period [kWh]</td>\n",
       "      <td>2012-03-01 01:30:00</td>\n",
       "      <td>0.666</td>\n",
       "      <td>2012-03-01 01:30:00</td>\n",
       "      <td>3</td>\n",
       "      <td>2012</td>\n",
       "      <td>1</td>\n",
       "      <td>Thursday</td>\n",
       "      <td>01:30:00</td>\n",
       "      <td>Winter</td>\n",
       "      <td>14945</td>\n",
       "      <td>Invalid</td>\n",
       "    </tr>\n",
       "    <tr>\n",
       "      <th>105120</th>\n",
       "      <td>292</td>\n",
       "      <td>101155</td>\n",
       "      <td>Electricity supply meter</td>\n",
       "      <td>Consumption in period [kWh]</td>\n",
       "      <td>2012-03-01 02:00:00</td>\n",
       "      <td>1.111</td>\n",
       "      <td>2012-03-01 02:00:00</td>\n",
       "      <td>3</td>\n",
       "      <td>2012</td>\n",
       "      <td>1</td>\n",
       "      <td>Thursday</td>\n",
       "      <td>02:00:00</td>\n",
       "      <td>Winter</td>\n",
       "      <td>14945</td>\n",
       "      <td>Invalid</td>\n",
       "    </tr>\n",
       "    <tr>\n",
       "      <th>...</th>\n",
       "      <td>...</td>\n",
       "      <td>...</td>\n",
       "      <td>...</td>\n",
       "      <td>...</td>\n",
       "      <td>...</td>\n",
       "      <td>...</td>\n",
       "      <td>...</td>\n",
       "      <td>...</td>\n",
       "      <td>...</td>\n",
       "      <td>...</td>\n",
       "      <td>...</td>\n",
       "      <td>...</td>\n",
       "      <td>...</td>\n",
       "      <td>...</td>\n",
       "      <td>...</td>\n",
       "    </tr>\n",
       "    <tr>\n",
       "      <th>26655801</th>\n",
       "      <td>13864326</td>\n",
       "      <td>100144</td>\n",
       "      <td>Electricity supply meter</td>\n",
       "      <td>Consumption in period [kWh]</td>\n",
       "      <td>2012-08-30 21:30:00</td>\n",
       "      <td>0.001</td>\n",
       "      <td>2012-08-30 21:30:00</td>\n",
       "      <td>8</td>\n",
       "      <td>2012</td>\n",
       "      <td>3</td>\n",
       "      <td>Thursday</td>\n",
       "      <td>21:30:00</td>\n",
       "      <td>Summer</td>\n",
       "      <td>585</td>\n",
       "      <td>Invalid</td>\n",
       "    </tr>\n",
       "    <tr>\n",
       "      <th>26655802</th>\n",
       "      <td>13864327</td>\n",
       "      <td>100144</td>\n",
       "      <td>Electricity supply meter</td>\n",
       "      <td>Consumption in period [kWh]</td>\n",
       "      <td>2012-08-30 22:00:00</td>\n",
       "      <td>0.001</td>\n",
       "      <td>2012-08-30 22:00:00</td>\n",
       "      <td>8</td>\n",
       "      <td>2012</td>\n",
       "      <td>3</td>\n",
       "      <td>Thursday</td>\n",
       "      <td>22:00:00</td>\n",
       "      <td>Summer</td>\n",
       "      <td>585</td>\n",
       "      <td>Invalid</td>\n",
       "    </tr>\n",
       "    <tr>\n",
       "      <th>26655803</th>\n",
       "      <td>13864328</td>\n",
       "      <td>100144</td>\n",
       "      <td>Electricity supply meter</td>\n",
       "      <td>Consumption in period [kWh]</td>\n",
       "      <td>2012-08-30 22:30:00</td>\n",
       "      <td>0.001</td>\n",
       "      <td>2012-08-30 22:30:00</td>\n",
       "      <td>8</td>\n",
       "      <td>2012</td>\n",
       "      <td>3</td>\n",
       "      <td>Thursday</td>\n",
       "      <td>22:30:00</td>\n",
       "      <td>Summer</td>\n",
       "      <td>585</td>\n",
       "      <td>Invalid</td>\n",
       "    </tr>\n",
       "    <tr>\n",
       "      <th>26655804</th>\n",
       "      <td>13864329</td>\n",
       "      <td>100144</td>\n",
       "      <td>Electricity supply meter</td>\n",
       "      <td>Consumption in period [kWh]</td>\n",
       "      <td>2012-08-30 23:00:00</td>\n",
       "      <td>0.002</td>\n",
       "      <td>2012-08-30 23:00:00</td>\n",
       "      <td>8</td>\n",
       "      <td>2012</td>\n",
       "      <td>3</td>\n",
       "      <td>Thursday</td>\n",
       "      <td>23:00:00</td>\n",
       "      <td>Summer</td>\n",
       "      <td>585</td>\n",
       "      <td>Invalid</td>\n",
       "    </tr>\n",
       "    <tr>\n",
       "      <th>26655805</th>\n",
       "      <td>13864330</td>\n",
       "      <td>100144</td>\n",
       "      <td>Electricity supply meter</td>\n",
       "      <td>Consumption in period [kWh]</td>\n",
       "      <td>2012-08-30 23:30:00</td>\n",
       "      <td>0.001</td>\n",
       "      <td>2012-08-30 23:30:00</td>\n",
       "      <td>8</td>\n",
       "      <td>2012</td>\n",
       "      <td>3</td>\n",
       "      <td>Thursday</td>\n",
       "      <td>23:30:00</td>\n",
       "      <td>Summer</td>\n",
       "      <td>585</td>\n",
       "      <td>Invalid</td>\n",
       "    </tr>\n",
       "  </tbody>\n",
       "</table>\n",
       "<p>1861263 rows × 15 columns</p>\n",
       "</div>"
      ],
      "text/plain": [
       "         Unnamed: 0  Location ID   Measurement Description  \\\n",
       "105116          288       101155  Electricity supply meter   \n",
       "105117          289       101155  Electricity supply meter   \n",
       "105118          290       101155  Electricity supply meter   \n",
       "105119          291       101155  Electricity supply meter   \n",
       "105120          292       101155  Electricity supply meter   \n",
       "...             ...          ...                       ...   \n",
       "26655801   13864326       100144  Electricity supply meter   \n",
       "26655802   13864327       100144  Electricity supply meter   \n",
       "26655803   13864328       100144  Electricity supply meter   \n",
       "26655804   13864329       100144  Electricity supply meter   \n",
       "26655805   13864330       100144  Electricity supply meter   \n",
       "\n",
       "             Parameter Type and Units Date and Time of capture_x  Parameter  \\\n",
       "105116    Consumption in period [kWh]        2012-03-01 00:00:00      0.112   \n",
       "105117    Consumption in period [kWh]        2012-03-01 00:30:00      0.116   \n",
       "105118    Consumption in period [kWh]        2012-03-01 01:00:00      0.115   \n",
       "105119    Consumption in period [kWh]        2012-03-01 01:30:00      0.666   \n",
       "105120    Consumption in period [kWh]        2012-03-01 02:00:00      1.111   \n",
       "...                               ...                        ...        ...   \n",
       "26655801  Consumption in period [kWh]        2012-08-30 21:30:00      0.001   \n",
       "26655802  Consumption in period [kWh]        2012-08-30 22:00:00      0.001   \n",
       "26655803  Consumption in period [kWh]        2012-08-30 22:30:00      0.001   \n",
       "26655804  Consumption in period [kWh]        2012-08-30 23:00:00      0.002   \n",
       "26655805  Consumption in period [kWh]        2012-08-30 23:30:00      0.001   \n",
       "\n",
       "                         Date  Month  Year  Quarter DayOfWeek      Hour  \\\n",
       "105116    2012-03-01 00:00:00      3  2012        1  Thursday  00:00:00   \n",
       "105117    2012-03-01 00:30:00      3  2012        1  Thursday  00:30:00   \n",
       "105118    2012-03-01 01:00:00      3  2012        1  Thursday  01:00:00   \n",
       "105119    2012-03-01 01:30:00      3  2012        1  Thursday  01:30:00   \n",
       "105120    2012-03-01 02:00:00      3  2012        1  Thursday  02:00:00   \n",
       "...                       ...    ...   ...      ...       ...       ...   \n",
       "26655801  2012-08-30 21:30:00      8  2012        3  Thursday  21:30:00   \n",
       "26655802  2012-08-30 22:00:00      8  2012        3  Thursday  22:00:00   \n",
       "26655803  2012-08-30 22:30:00      8  2012        3  Thursday  22:30:00   \n",
       "26655804  2012-08-30 23:00:00      8  2012        3  Thursday  23:00:00   \n",
       "26655805  2012-08-30 23:30:00      8  2012        3  Thursday  23:30:00   \n",
       "\n",
       "          Season  Date and Time of capture_y  Invalid  \n",
       "105116    Winter                       14945  Invalid  \n",
       "105117    Winter                       14945  Invalid  \n",
       "105118    Winter                       14945  Invalid  \n",
       "105119    Winter                       14945  Invalid  \n",
       "105120    Winter                       14945  Invalid  \n",
       "...          ...                         ...      ...  \n",
       "26655801  Summer                         585  Invalid  \n",
       "26655802  Summer                         585  Invalid  \n",
       "26655803  Summer                         585  Invalid  \n",
       "26655804  Summer                         585  Invalid  \n",
       "26655805  Summer                         585  Invalid  \n",
       "\n",
       "[1861263 rows x 15 columns]"
      ]
     },
     "execution_count": 25,
     "metadata": {},
     "output_type": "execute_result"
    }
   ],
   "source": [
    "df2.loc[(df2['Invalid'] == 'Invalid')]"
   ]
  },
  {
   "cell_type": "code",
   "execution_count": 26,
   "id": "33e7225f",
   "metadata": {},
   "outputs": [],
   "source": [
    "#Drop invalid records from dataframe\n",
    "df2 = df2.drop(df2[df2['Invalid'] == 'Invalid'].index)"
   ]
  },
  {
   "cell_type": "code",
   "execution_count": 27,
   "id": "deae22a4",
   "metadata": {},
   "outputs": [
    {
     "data": {
      "text/html": [
       "<div>\n",
       "<style scoped>\n",
       "    .dataframe tbody tr th:only-of-type {\n",
       "        vertical-align: middle;\n",
       "    }\n",
       "\n",
       "    .dataframe tbody tr th {\n",
       "        vertical-align: top;\n",
       "    }\n",
       "\n",
       "    .dataframe thead th {\n",
       "        text-align: right;\n",
       "    }\n",
       "</style>\n",
       "<table border=\"1\" class=\"dataframe\">\n",
       "  <thead>\n",
       "    <tr style=\"text-align: right;\">\n",
       "      <th></th>\n",
       "      <th>Unnamed: 0</th>\n",
       "      <th>Location ID</th>\n",
       "      <th>Measurement Description</th>\n",
       "      <th>Parameter Type and Units</th>\n",
       "      <th>Date and Time of capture_x</th>\n",
       "      <th>Parameter</th>\n",
       "      <th>Date</th>\n",
       "      <th>Month</th>\n",
       "      <th>Year</th>\n",
       "      <th>Quarter</th>\n",
       "      <th>DayOfWeek</th>\n",
       "      <th>Hour</th>\n",
       "      <th>Season</th>\n",
       "      <th>Date and Time of capture_y</th>\n",
       "      <th>Invalid</th>\n",
       "    </tr>\n",
       "  </thead>\n",
       "  <tbody>\n",
       "    <tr>\n",
       "      <th>0</th>\n",
       "      <td>0</td>\n",
       "      <td>100600</td>\n",
       "      <td>Electricity supply meter</td>\n",
       "      <td>Consumption in period [kWh]</td>\n",
       "      <td>2012-03-01 00:00:00</td>\n",
       "      <td>0.893</td>\n",
       "      <td>2012-03-01 00:00:00</td>\n",
       "      <td>3</td>\n",
       "      <td>2012</td>\n",
       "      <td>1</td>\n",
       "      <td>Thursday</td>\n",
       "      <td>00:00:00</td>\n",
       "      <td>Winter</td>\n",
       "      <td>17520</td>\n",
       "      <td>NaN</td>\n",
       "    </tr>\n",
       "    <tr>\n",
       "      <th>1</th>\n",
       "      <td>1</td>\n",
       "      <td>100600</td>\n",
       "      <td>Electricity supply meter</td>\n",
       "      <td>Consumption in period [kWh]</td>\n",
       "      <td>2012-03-01 00:30:00</td>\n",
       "      <td>0.824</td>\n",
       "      <td>2012-03-01 00:30:00</td>\n",
       "      <td>3</td>\n",
       "      <td>2012</td>\n",
       "      <td>1</td>\n",
       "      <td>Thursday</td>\n",
       "      <td>00:30:00</td>\n",
       "      <td>Winter</td>\n",
       "      <td>17520</td>\n",
       "      <td>NaN</td>\n",
       "    </tr>\n",
       "    <tr>\n",
       "      <th>2</th>\n",
       "      <td>2</td>\n",
       "      <td>100600</td>\n",
       "      <td>Electricity supply meter</td>\n",
       "      <td>Consumption in period [kWh]</td>\n",
       "      <td>2012-03-01 01:00:00</td>\n",
       "      <td>0.795</td>\n",
       "      <td>2012-03-01 01:00:00</td>\n",
       "      <td>3</td>\n",
       "      <td>2012</td>\n",
       "      <td>1</td>\n",
       "      <td>Thursday</td>\n",
       "      <td>01:00:00</td>\n",
       "      <td>Winter</td>\n",
       "      <td>17520</td>\n",
       "      <td>NaN</td>\n",
       "    </tr>\n",
       "    <tr>\n",
       "      <th>3</th>\n",
       "      <td>3</td>\n",
       "      <td>100600</td>\n",
       "      <td>Electricity supply meter</td>\n",
       "      <td>Consumption in period [kWh]</td>\n",
       "      <td>2012-03-01 01:30:00</td>\n",
       "      <td>0.847</td>\n",
       "      <td>2012-03-01 01:30:00</td>\n",
       "      <td>3</td>\n",
       "      <td>2012</td>\n",
       "      <td>1</td>\n",
       "      <td>Thursday</td>\n",
       "      <td>01:30:00</td>\n",
       "      <td>Winter</td>\n",
       "      <td>17520</td>\n",
       "      <td>NaN</td>\n",
       "    </tr>\n",
       "    <tr>\n",
       "      <th>4</th>\n",
       "      <td>4</td>\n",
       "      <td>100600</td>\n",
       "      <td>Electricity supply meter</td>\n",
       "      <td>Consumption in period [kWh]</td>\n",
       "      <td>2012-03-01 02:00:00</td>\n",
       "      <td>0.730</td>\n",
       "      <td>2012-03-01 02:00:00</td>\n",
       "      <td>3</td>\n",
       "      <td>2012</td>\n",
       "      <td>1</td>\n",
       "      <td>Thursday</td>\n",
       "      <td>02:00:00</td>\n",
       "      <td>Winter</td>\n",
       "      <td>17520</td>\n",
       "      <td>NaN</td>\n",
       "    </tr>\n",
       "  </tbody>\n",
       "</table>\n",
       "</div>"
      ],
      "text/plain": [
       "  Unnamed: 0  Location ID   Measurement Description  \\\n",
       "0          0       100600  Electricity supply meter   \n",
       "1          1       100600  Electricity supply meter   \n",
       "2          2       100600  Electricity supply meter   \n",
       "3          3       100600  Electricity supply meter   \n",
       "4          4       100600  Electricity supply meter   \n",
       "\n",
       "      Parameter Type and Units Date and Time of capture_x  Parameter  \\\n",
       "0  Consumption in period [kWh]        2012-03-01 00:00:00      0.893   \n",
       "1  Consumption in period [kWh]        2012-03-01 00:30:00      0.824   \n",
       "2  Consumption in period [kWh]        2012-03-01 01:00:00      0.795   \n",
       "3  Consumption in period [kWh]        2012-03-01 01:30:00      0.847   \n",
       "4  Consumption in period [kWh]        2012-03-01 02:00:00      0.730   \n",
       "\n",
       "                  Date  Month  Year  Quarter DayOfWeek      Hour  Season  \\\n",
       "0  2012-03-01 00:00:00      3  2012        1  Thursday  00:00:00  Winter   \n",
       "1  2012-03-01 00:30:00      3  2012        1  Thursday  00:30:00  Winter   \n",
       "2  2012-03-01 01:00:00      3  2012        1  Thursday  01:00:00  Winter   \n",
       "3  2012-03-01 01:30:00      3  2012        1  Thursday  01:30:00  Winter   \n",
       "4  2012-03-01 02:00:00      3  2012        1  Thursday  02:00:00  Winter   \n",
       "\n",
       "   Date and Time of capture_y Invalid  \n",
       "0                       17520     NaN  \n",
       "1                       17520     NaN  \n",
       "2                       17520     NaN  \n",
       "3                       17520     NaN  \n",
       "4                       17520     NaN  "
      ]
     },
     "execution_count": 27,
     "metadata": {},
     "output_type": "execute_result"
    }
   ],
   "source": [
    "df2.head()"
   ]
  },
  {
   "cell_type": "code",
   "execution_count": 28,
   "id": "f3ba497a",
   "metadata": {},
   "outputs": [],
   "source": [
    "#Rename Column\n",
    "df2 = df2.rename(columns={\"Date and Time of capture_y\": \"Records\"})"
   ]
  },
  {
   "cell_type": "code",
   "execution_count": 29,
   "id": "45eb33d1",
   "metadata": {},
   "outputs": [],
   "source": [
    "#Rename Column\n",
    "df2 = df2.rename(columns={\"Date and Time of capture_x\": \"Date and Time of capture\"})"
   ]
  },
  {
   "cell_type": "code",
   "execution_count": 30,
   "id": "148ad93c",
   "metadata": {},
   "outputs": [],
   "source": [
    "#Drop Invalid column\n",
    "df2 = df2.drop(['Invalid'], axis=1)"
   ]
  },
  {
   "cell_type": "code",
   "execution_count": 31,
   "id": "ba8572af",
   "metadata": {},
   "outputs": [],
   "source": [
    "#Verify how many incomplete records still exist in dataframe\n",
    "dftest = df2.loc[df2[\"Records\"] < 17520]"
   ]
  },
  {
   "cell_type": "code",
   "execution_count": 32,
   "id": "16d38cbd",
   "metadata": {},
   "outputs": [
    {
     "data": {
      "text/plain": [
       "600"
      ]
     },
     "execution_count": 32,
     "metadata": {},
     "output_type": "execute_result"
    }
   ],
   "source": [
    "#Count of invalid records\n",
    "dftest[\"Location ID\"].nunique()"
   ]
  },
  {
   "cell_type": "code",
   "execution_count": 33,
   "id": "2c122a6d",
   "metadata": {},
   "outputs": [],
   "source": [
    "#Assign only locations with complete records to new dataframe\n",
    "df3 = df2.loc[df2[\"Records\"] == 17520]"
   ]
  },
  {
   "cell_type": "code",
   "execution_count": 34,
   "id": "dd1602d3",
   "metadata": {},
   "outputs": [
    {
     "data": {
      "text/html": [
       "<div>\n",
       "<style scoped>\n",
       "    .dataframe tbody tr th:only-of-type {\n",
       "        vertical-align: middle;\n",
       "    }\n",
       "\n",
       "    .dataframe tbody tr th {\n",
       "        vertical-align: top;\n",
       "    }\n",
       "\n",
       "    .dataframe thead th {\n",
       "        text-align: right;\n",
       "    }\n",
       "</style>\n",
       "<table border=\"1\" class=\"dataframe\">\n",
       "  <thead>\n",
       "    <tr style=\"text-align: right;\">\n",
       "      <th></th>\n",
       "      <th>Unnamed: 0</th>\n",
       "      <th>Location ID</th>\n",
       "      <th>Measurement Description</th>\n",
       "      <th>Parameter Type and Units</th>\n",
       "      <th>Date and Time of capture</th>\n",
       "      <th>Parameter</th>\n",
       "      <th>Date</th>\n",
       "      <th>Month</th>\n",
       "      <th>Year</th>\n",
       "      <th>Quarter</th>\n",
       "      <th>DayOfWeek</th>\n",
       "      <th>Hour</th>\n",
       "      <th>Season</th>\n",
       "      <th>Records</th>\n",
       "    </tr>\n",
       "  </thead>\n",
       "  <tbody>\n",
       "    <tr>\n",
       "      <th>0</th>\n",
       "      <td>0</td>\n",
       "      <td>100600</td>\n",
       "      <td>Electricity supply meter</td>\n",
       "      <td>Consumption in period [kWh]</td>\n",
       "      <td>2012-03-01 00:00:00</td>\n",
       "      <td>0.893</td>\n",
       "      <td>2012-03-01 00:00:00</td>\n",
       "      <td>3</td>\n",
       "      <td>2012</td>\n",
       "      <td>1</td>\n",
       "      <td>Thursday</td>\n",
       "      <td>00:00:00</td>\n",
       "      <td>Winter</td>\n",
       "      <td>17520</td>\n",
       "    </tr>\n",
       "    <tr>\n",
       "      <th>1</th>\n",
       "      <td>1</td>\n",
       "      <td>100600</td>\n",
       "      <td>Electricity supply meter</td>\n",
       "      <td>Consumption in period [kWh]</td>\n",
       "      <td>2012-03-01 00:30:00</td>\n",
       "      <td>0.824</td>\n",
       "      <td>2012-03-01 00:30:00</td>\n",
       "      <td>3</td>\n",
       "      <td>2012</td>\n",
       "      <td>1</td>\n",
       "      <td>Thursday</td>\n",
       "      <td>00:30:00</td>\n",
       "      <td>Winter</td>\n",
       "      <td>17520</td>\n",
       "    </tr>\n",
       "    <tr>\n",
       "      <th>2</th>\n",
       "      <td>2</td>\n",
       "      <td>100600</td>\n",
       "      <td>Electricity supply meter</td>\n",
       "      <td>Consumption in period [kWh]</td>\n",
       "      <td>2012-03-01 01:00:00</td>\n",
       "      <td>0.795</td>\n",
       "      <td>2012-03-01 01:00:00</td>\n",
       "      <td>3</td>\n",
       "      <td>2012</td>\n",
       "      <td>1</td>\n",
       "      <td>Thursday</td>\n",
       "      <td>01:00:00</td>\n",
       "      <td>Winter</td>\n",
       "      <td>17520</td>\n",
       "    </tr>\n",
       "    <tr>\n",
       "      <th>3</th>\n",
       "      <td>3</td>\n",
       "      <td>100600</td>\n",
       "      <td>Electricity supply meter</td>\n",
       "      <td>Consumption in period [kWh]</td>\n",
       "      <td>2012-03-01 01:30:00</td>\n",
       "      <td>0.847</td>\n",
       "      <td>2012-03-01 01:30:00</td>\n",
       "      <td>3</td>\n",
       "      <td>2012</td>\n",
       "      <td>1</td>\n",
       "      <td>Thursday</td>\n",
       "      <td>01:30:00</td>\n",
       "      <td>Winter</td>\n",
       "      <td>17520</td>\n",
       "    </tr>\n",
       "    <tr>\n",
       "      <th>4</th>\n",
       "      <td>4</td>\n",
       "      <td>100600</td>\n",
       "      <td>Electricity supply meter</td>\n",
       "      <td>Consumption in period [kWh]</td>\n",
       "      <td>2012-03-01 02:00:00</td>\n",
       "      <td>0.730</td>\n",
       "      <td>2012-03-01 02:00:00</td>\n",
       "      <td>3</td>\n",
       "      <td>2012</td>\n",
       "      <td>1</td>\n",
       "      <td>Thursday</td>\n",
       "      <td>02:00:00</td>\n",
       "      <td>Winter</td>\n",
       "      <td>17520</td>\n",
       "    </tr>\n",
       "  </tbody>\n",
       "</table>\n",
       "</div>"
      ],
      "text/plain": [
       "  Unnamed: 0  Location ID   Measurement Description  \\\n",
       "0          0       100600  Electricity supply meter   \n",
       "1          1       100600  Electricity supply meter   \n",
       "2          2       100600  Electricity supply meter   \n",
       "3          3       100600  Electricity supply meter   \n",
       "4          4       100600  Electricity supply meter   \n",
       "\n",
       "      Parameter Type and Units Date and Time of capture  Parameter  \\\n",
       "0  Consumption in period [kWh]      2012-03-01 00:00:00      0.893   \n",
       "1  Consumption in period [kWh]      2012-03-01 00:30:00      0.824   \n",
       "2  Consumption in period [kWh]      2012-03-01 01:00:00      0.795   \n",
       "3  Consumption in period [kWh]      2012-03-01 01:30:00      0.847   \n",
       "4  Consumption in period [kWh]      2012-03-01 02:00:00      0.730   \n",
       "\n",
       "                  Date  Month  Year  Quarter DayOfWeek      Hour  Season  \\\n",
       "0  2012-03-01 00:00:00      3  2012        1  Thursday  00:00:00  Winter   \n",
       "1  2012-03-01 00:30:00      3  2012        1  Thursday  00:30:00  Winter   \n",
       "2  2012-03-01 01:00:00      3  2012        1  Thursday  01:00:00  Winter   \n",
       "3  2012-03-01 01:30:00      3  2012        1  Thursday  01:30:00  Winter   \n",
       "4  2012-03-01 02:00:00      3  2012        1  Thursday  02:00:00  Winter   \n",
       "\n",
       "   Records  \n",
       "0    17520  \n",
       "1    17520  \n",
       "2    17520  \n",
       "3    17520  \n",
       "4    17520  "
      ]
     },
     "execution_count": 34,
     "metadata": {},
     "output_type": "execute_result"
    }
   ],
   "source": [
    "df3.head()"
   ]
  },
  {
   "cell_type": "code",
   "execution_count": 35,
   "id": "88c32fcc",
   "metadata": {},
   "outputs": [
    {
     "data": {
      "text/plain": [
       "910"
      ]
     },
     "execution_count": 35,
     "metadata": {},
     "output_type": "execute_result"
    }
   ],
   "source": [
    "#Find number of unique locations in dataframe\n",
    "df3[\"Location ID\"].nunique()"
   ]
  },
  {
   "cell_type": "code",
   "execution_count": 36,
   "id": "088cda15",
   "metadata": {},
   "outputs": [],
   "source": [
    "#Drop column\n",
    "df3 = df3.drop(['Unnamed: 0'], axis=1)"
   ]
  },
  {
   "cell_type": "code",
   "execution_count": 37,
   "id": "e20bacf7",
   "metadata": {},
   "outputs": [],
   "source": [
    "#Sum values for each location for each datetime\n",
    "df4 = df3.pivot_table(values='Parameter', index = 'Date and Time of capture', aggfunc= 'sum')"
   ]
  },
  {
   "cell_type": "code",
   "execution_count": 38,
   "id": "24624147",
   "metadata": {},
   "outputs": [
    {
     "data": {
      "text/html": [
       "<div>\n",
       "<style scoped>\n",
       "    .dataframe tbody tr th:only-of-type {\n",
       "        vertical-align: middle;\n",
       "    }\n",
       "\n",
       "    .dataframe tbody tr th {\n",
       "        vertical-align: top;\n",
       "    }\n",
       "\n",
       "    .dataframe thead th {\n",
       "        text-align: right;\n",
       "    }\n",
       "</style>\n",
       "<table border=\"1\" class=\"dataframe\">\n",
       "  <thead>\n",
       "    <tr style=\"text-align: right;\">\n",
       "      <th></th>\n",
       "      <th>Parameter</th>\n",
       "    </tr>\n",
       "    <tr>\n",
       "      <th>Date and Time of capture</th>\n",
       "      <th></th>\n",
       "    </tr>\n",
       "  </thead>\n",
       "  <tbody>\n",
       "    <tr>\n",
       "      <th>2011-09-01 00:00:00</th>\n",
       "      <td>707.889</td>\n",
       "    </tr>\n",
       "    <tr>\n",
       "      <th>2011-09-01 00:30:00</th>\n",
       "      <td>705.840</td>\n",
       "    </tr>\n",
       "    <tr>\n",
       "      <th>2011-09-01 01:00:00</th>\n",
       "      <td>724.357</td>\n",
       "    </tr>\n",
       "    <tr>\n",
       "      <th>2011-09-01 01:30:00</th>\n",
       "      <td>713.332</td>\n",
       "    </tr>\n",
       "    <tr>\n",
       "      <th>2011-09-01 02:00:00</th>\n",
       "      <td>706.644</td>\n",
       "    </tr>\n",
       "  </tbody>\n",
       "</table>\n",
       "</div>"
      ],
      "text/plain": [
       "                          Parameter\n",
       "Date and Time of capture           \n",
       "2011-09-01 00:00:00         707.889\n",
       "2011-09-01 00:30:00         705.840\n",
       "2011-09-01 01:00:00         724.357\n",
       "2011-09-01 01:30:00         713.332\n",
       "2011-09-01 02:00:00         706.644"
      ]
     },
     "execution_count": 38,
     "metadata": {},
     "output_type": "execute_result"
    }
   ],
   "source": [
    "df4.head()"
   ]
  },
  {
   "cell_type": "code",
   "execution_count": 39,
   "id": "1b225caf",
   "metadata": {},
   "outputs": [],
   "source": [
    "#Rename column to identify column with parameter sum\n",
    "df4 = df4.rename(columns={\"Parameter\": \"Total Parameter\"})"
   ]
  },
  {
   "cell_type": "code",
   "execution_count": 40,
   "id": "2ce51303",
   "metadata": {},
   "outputs": [],
   "source": [
    "#Merge both dataframe on Date and Time of capture\n",
    "df5 = (pd.merge(df3, df4, on='Date and Time of capture'))"
   ]
  },
  {
   "cell_type": "markdown",
   "id": "b0aa5610",
   "metadata": {},
   "source": [
    "## Secondary EDA"
   ]
  },
  {
   "cell_type": "code",
   "execution_count": 41,
   "id": "7cbea837",
   "metadata": {
    "scrolled": true
   },
   "outputs": [
    {
     "data": {
      "text/plain": [
       "Text(0.5, 1.0, 'Consumption by Location ID')"
      ]
     },
     "execution_count": 41,
     "metadata": {},
     "output_type": "execute_result"
    },
    {
     "data": {
      "image/png": "[encoded data removed]",
      "text/plain": [
       "<Figure size 1000x1000 with 1 Axes>"
      ]
     },
     "metadata": {},
     "output_type": "display_data"
    }
   ],
   "source": [
    "#Distribution of Load by Location ID\n",
    "plt.figure(figsize=(10,10))\n",
    "plt.scatter(x=df5['Location ID'], y=df5['Parameter'])\n",
    "plt.xlabel('Location ID')\n",
    "plt.ylabel('Consumption')\n",
    "plt.title('Consumption by Location ID')"
   ]
  },
  {
   "cell_type": "markdown",
   "id": "0bdfd5d3",
   "metadata": {},
   "source": [
    "## Further Data Preparation for Plots"
   ]
  },
  {
   "cell_type": "code",
   "execution_count": 42,
   "id": "052ccd82",
   "metadata": {},
   "outputs": [],
   "source": [
    "#Drop column\n",
    "df5 = df5.drop(['Location ID'], axis=1)"
   ]
  },
  {
   "cell_type": "code",
   "execution_count": 43,
   "id": "b4f1fd6b",
   "metadata": {},
   "outputs": [],
   "source": [
    "#Drop column\n",
    "df5 = df5.drop(['Parameter'], axis=1)"
   ]
  },
  {
   "cell_type": "code",
   "execution_count": 44,
   "id": "44c56716",
   "metadata": {},
   "outputs": [
    {
     "name": "stdout",
     "output_type": "stream",
     "text": [
      "<class 'pandas.core.frame.DataFrame'>\n",
      "Int64Index: 15943200 entries, 0 to 15943199\n",
      "Data columns (total 12 columns):\n",
      " #   Column                    Dtype         \n",
      "---  ------                    -----         \n",
      " 0   Measurement Description   object        \n",
      " 1   Parameter Type and Units  object        \n",
      " 2   Date and Time of capture  datetime64[ns]\n",
      " 3   Date                      object        \n",
      " 4   Month                     int64         \n",
      " 5   Year                      int64         \n",
      " 6   Quarter                   int64         \n",
      " 7   DayOfWeek                 object        \n",
      " 8   Hour                      object        \n",
      " 9   Season                    object        \n",
      " 10  Records                   int64         \n",
      " 11  Total Parameter           float64       \n",
      "dtypes: datetime64[ns](1), float64(1), int64(4), object(6)\n",
      "memory usage: 1.5+ GB\n"
     ]
    }
   ],
   "source": [
    "#Check existing variables and their type\n",
    "df5.info()"
   ]
  },
  {
   "cell_type": "code",
   "execution_count": 45,
   "id": "b0e1566d",
   "metadata": {},
   "outputs": [],
   "source": [
    "#Drop duplicates\n",
    "df5 = df5.drop_duplicates()"
   ]
  },
  {
   "cell_type": "code",
   "execution_count": 46,
   "id": "6d94237c",
   "metadata": {},
   "outputs": [],
   "source": [
    "#Reset index\n",
    "df5 = df5.reset_index()"
   ]
  },
  {
   "cell_type": "code",
   "execution_count": 47,
   "id": "503642c3",
   "metadata": {},
   "outputs": [],
   "source": [
    "#Convert Date and Time of capture to datetime\n",
    "df5['Date and Time of capture'] = pd.to_datetime(df5['Date and Time of capture'], format='%d/%m/%Y %H:%M:%S')"
   ]
  },
  {
   "cell_type": "code",
   "execution_count": 48,
   "id": "b4da50d5",
   "metadata": {},
   "outputs": [
    {
     "data": {
      "text/plain": [
       "Timestamp('2011-09-01 00:00:00')"
      ]
     },
     "execution_count": 48,
     "metadata": {},
     "output_type": "execute_result"
    }
   ],
   "source": [
    "#Find start date of dataframe\n",
    "df['Date and Time of capture'].min()"
   ]
  },
  {
   "cell_type": "code",
   "execution_count": 49,
   "id": "d73e995a",
   "metadata": {},
   "outputs": [],
   "source": [
    "#Drop date to convert Date into datetime\n",
    "df5 = df5.drop(['Date'], axis=1)"
   ]
  },
  {
   "cell_type": "code",
   "execution_count": 50,
   "id": "5fb69a57",
   "metadata": {},
   "outputs": [],
   "source": [
    "#Create Date column with type datetime\n",
    "df5['Date'] = pd.to_datetime(df5[\"Date and Time of capture\"], format='%d/%m/%Y').dt.date"
   ]
  },
  {
   "cell_type": "code",
   "execution_count": 51,
   "id": "f19337be",
   "metadata": {
    "scrolled": true
   },
   "outputs": [
    {
     "data": {
      "text/plain": [
       "'2011-09-01 00:00:00'"
      ]
     },
     "execution_count": 51,
     "metadata": {},
     "output_type": "execute_result"
    }
   ],
   "source": [
    "#Verify if minimum Date aligns with minimum Date and Time of capture\n",
    "df['Date'].min()"
   ]
  },
  {
   "cell_type": "code",
   "execution_count": 52,
   "id": "33430370",
   "metadata": {
    "scrolled": true
   },
   "outputs": [
    {
     "data": {
      "text/html": [
       "<div>\n",
       "<style scoped>\n",
       "    .dataframe tbody tr th:only-of-type {\n",
       "        vertical-align: middle;\n",
       "    }\n",
       "\n",
       "    .dataframe tbody tr th {\n",
       "        vertical-align: top;\n",
       "    }\n",
       "\n",
       "    .dataframe thead th {\n",
       "        text-align: right;\n",
       "    }\n",
       "</style>\n",
       "<table border=\"1\" class=\"dataframe\">\n",
       "  <thead>\n",
       "    <tr style=\"text-align: right;\">\n",
       "      <th></th>\n",
       "      <th>index</th>\n",
       "      <th>Measurement Description</th>\n",
       "      <th>Parameter Type and Units</th>\n",
       "      <th>Date and Time of capture</th>\n",
       "      <th>Month</th>\n",
       "      <th>Year</th>\n",
       "      <th>Quarter</th>\n",
       "      <th>DayOfWeek</th>\n",
       "      <th>Hour</th>\n",
       "      <th>Season</th>\n",
       "      <th>Records</th>\n",
       "      <th>Total Parameter</th>\n",
       "      <th>Date</th>\n",
       "    </tr>\n",
       "  </thead>\n",
       "  <tbody>\n",
       "    <tr>\n",
       "      <th>0</th>\n",
       "      <td>0</td>\n",
       "      <td>Electricity supply meter</td>\n",
       "      <td>Consumption in period [kWh]</td>\n",
       "      <td>2012-03-01 00:00:00</td>\n",
       "      <td>3</td>\n",
       "      <td>2012</td>\n",
       "      <td>1</td>\n",
       "      <td>Thursday</td>\n",
       "      <td>00:00:00</td>\n",
       "      <td>Winter</td>\n",
       "      <td>17520</td>\n",
       "      <td>809.373</td>\n",
       "      <td>2012-03-01</td>\n",
       "    </tr>\n",
       "    <tr>\n",
       "      <th>1</th>\n",
       "      <td>910</td>\n",
       "      <td>Electricity supply meter</td>\n",
       "      <td>Consumption in period [kWh]</td>\n",
       "      <td>2012-03-01 00:30:00</td>\n",
       "      <td>3</td>\n",
       "      <td>2012</td>\n",
       "      <td>1</td>\n",
       "      <td>Thursday</td>\n",
       "      <td>00:30:00</td>\n",
       "      <td>Winter</td>\n",
       "      <td>17520</td>\n",
       "      <td>793.537</td>\n",
       "      <td>2012-03-01</td>\n",
       "    </tr>\n",
       "    <tr>\n",
       "      <th>2</th>\n",
       "      <td>1820</td>\n",
       "      <td>Electricity supply meter</td>\n",
       "      <td>Consumption in period [kWh]</td>\n",
       "      <td>2012-03-01 01:00:00</td>\n",
       "      <td>3</td>\n",
       "      <td>2012</td>\n",
       "      <td>1</td>\n",
       "      <td>Thursday</td>\n",
       "      <td>01:00:00</td>\n",
       "      <td>Winter</td>\n",
       "      <td>17520</td>\n",
       "      <td>884.144</td>\n",
       "      <td>2012-03-01</td>\n",
       "    </tr>\n",
       "    <tr>\n",
       "      <th>3</th>\n",
       "      <td>2730</td>\n",
       "      <td>Electricity supply meter</td>\n",
       "      <td>Consumption in period [kWh]</td>\n",
       "      <td>2012-03-01 01:30:00</td>\n",
       "      <td>3</td>\n",
       "      <td>2012</td>\n",
       "      <td>1</td>\n",
       "      <td>Thursday</td>\n",
       "      <td>01:30:00</td>\n",
       "      <td>Winter</td>\n",
       "      <td>17520</td>\n",
       "      <td>857.668</td>\n",
       "      <td>2012-03-01</td>\n",
       "    </tr>\n",
       "    <tr>\n",
       "      <th>4</th>\n",
       "      <td>3640</td>\n",
       "      <td>Electricity supply meter</td>\n",
       "      <td>Consumption in period [kWh]</td>\n",
       "      <td>2012-03-01 02:00:00</td>\n",
       "      <td>3</td>\n",
       "      <td>2012</td>\n",
       "      <td>1</td>\n",
       "      <td>Thursday</td>\n",
       "      <td>02:00:00</td>\n",
       "      <td>Winter</td>\n",
       "      <td>17520</td>\n",
       "      <td>839.702</td>\n",
       "      <td>2012-03-01</td>\n",
       "    </tr>\n",
       "    <tr>\n",
       "      <th>...</th>\n",
       "      <td>...</td>\n",
       "      <td>...</td>\n",
       "      <td>...</td>\n",
       "      <td>...</td>\n",
       "      <td>...</td>\n",
       "      <td>...</td>\n",
       "      <td>...</td>\n",
       "      <td>...</td>\n",
       "      <td>...</td>\n",
       "      <td>...</td>\n",
       "      <td>...</td>\n",
       "      <td>...</td>\n",
       "      <td>...</td>\n",
       "    </tr>\n",
       "    <tr>\n",
       "      <th>17515</th>\n",
       "      <td>15938650</td>\n",
       "      <td>Electricity supply meter</td>\n",
       "      <td>Consumption in period [kWh]</td>\n",
       "      <td>2012-02-29 21:30:00</td>\n",
       "      <td>2</td>\n",
       "      <td>2012</td>\n",
       "      <td>1</td>\n",
       "      <td>Wednesday</td>\n",
       "      <td>21:30:00</td>\n",
       "      <td>Winter</td>\n",
       "      <td>17520</td>\n",
       "      <td>1102.942</td>\n",
       "      <td>2012-02-29</td>\n",
       "    </tr>\n",
       "    <tr>\n",
       "      <th>17516</th>\n",
       "      <td>15939560</td>\n",
       "      <td>Electricity supply meter</td>\n",
       "      <td>Consumption in period [kWh]</td>\n",
       "      <td>2012-02-29 22:00:00</td>\n",
       "      <td>2</td>\n",
       "      <td>2012</td>\n",
       "      <td>1</td>\n",
       "      <td>Wednesday</td>\n",
       "      <td>22:00:00</td>\n",
       "      <td>Winter</td>\n",
       "      <td>17520</td>\n",
       "      <td>1022.449</td>\n",
       "      <td>2012-02-29</td>\n",
       "    </tr>\n",
       "    <tr>\n",
       "      <th>17517</th>\n",
       "      <td>15940470</td>\n",
       "      <td>Electricity supply meter</td>\n",
       "      <td>Consumption in period [kWh]</td>\n",
       "      <td>2012-02-29 22:30:00</td>\n",
       "      <td>2</td>\n",
       "      <td>2012</td>\n",
       "      <td>1</td>\n",
       "      <td>Wednesday</td>\n",
       "      <td>22:30:00</td>\n",
       "      <td>Winter</td>\n",
       "      <td>17520</td>\n",
       "      <td>942.478</td>\n",
       "      <td>2012-02-29</td>\n",
       "    </tr>\n",
       "    <tr>\n",
       "      <th>17518</th>\n",
       "      <td>15941380</td>\n",
       "      <td>Electricity supply meter</td>\n",
       "      <td>Consumption in period [kWh]</td>\n",
       "      <td>2012-02-29 23:00:00</td>\n",
       "      <td>2</td>\n",
       "      <td>2012</td>\n",
       "      <td>1</td>\n",
       "      <td>Wednesday</td>\n",
       "      <td>23:00:00</td>\n",
       "      <td>Winter</td>\n",
       "      <td>17520</td>\n",
       "      <td>914.322</td>\n",
       "      <td>2012-02-29</td>\n",
       "    </tr>\n",
       "    <tr>\n",
       "      <th>17519</th>\n",
       "      <td>15942290</td>\n",
       "      <td>Electricity supply meter</td>\n",
       "      <td>Consumption in period [kWh]</td>\n",
       "      <td>2012-02-29 23:30:00</td>\n",
       "      <td>2</td>\n",
       "      <td>2012</td>\n",
       "      <td>1</td>\n",
       "      <td>Wednesday</td>\n",
       "      <td>23:30:00</td>\n",
       "      <td>Winter</td>\n",
       "      <td>17520</td>\n",
       "      <td>840.346</td>\n",
       "      <td>2012-02-29</td>\n",
       "    </tr>\n",
       "  </tbody>\n",
       "</table>\n",
       "<p>17520 rows × 13 columns</p>\n",
       "</div>"
      ],
      "text/plain": [
       "          index   Measurement Description     Parameter Type and Units  \\\n",
       "0             0  Electricity supply meter  Consumption in period [kWh]   \n",
       "1           910  Electricity supply meter  Consumption in period [kWh]   \n",
       "2          1820  Electricity supply meter  Consumption in period [kWh]   \n",
       "3          2730  Electricity supply meter  Consumption in period [kWh]   \n",
       "4          3640  Electricity supply meter  Consumption in period [kWh]   \n",
       "...         ...                       ...                          ...   \n",
       "17515  15938650  Electricity supply meter  Consumption in period [kWh]   \n",
       "17516  15939560  Electricity supply meter  Consumption in period [kWh]   \n",
       "17517  15940470  Electricity supply meter  Consumption in period [kWh]   \n",
       "17518  15941380  Electricity supply meter  Consumption in period [kWh]   \n",
       "17519  15942290  Electricity supply meter  Consumption in period [kWh]   \n",
       "\n",
       "      Date and Time of capture  Month  Year  Quarter  DayOfWeek      Hour  \\\n",
       "0          2012-03-01 00:00:00      3  2012        1   Thursday  00:00:00   \n",
       "1          2012-03-01 00:30:00      3  2012        1   Thursday  00:30:00   \n",
       "2          2012-03-01 01:00:00      3  2012        1   Thursday  01:00:00   \n",
       "3          2012-03-01 01:30:00      3  2012        1   Thursday  01:30:00   \n",
       "4          2012-03-01 02:00:00      3  2012        1   Thursday  02:00:00   \n",
       "...                        ...    ...   ...      ...        ...       ...   \n",
       "17515      2012-02-29 21:30:00      2  2012        1  Wednesday  21:30:00   \n",
       "17516      2012-02-29 22:00:00      2  2012        1  Wednesday  22:00:00   \n",
       "17517      2012-02-29 22:30:00      2  2012        1  Wednesday  22:30:00   \n",
       "17518      2012-02-29 23:00:00      2  2012        1  Wednesday  23:00:00   \n",
       "17519      2012-02-29 23:30:00      2  2012        1  Wednesday  23:30:00   \n",
       "\n",
       "       Season  Records  Total Parameter        Date  \n",
       "0      Winter    17520          809.373  2012-03-01  \n",
       "1      Winter    17520          793.537  2012-03-01  \n",
       "2      Winter    17520          884.144  2012-03-01  \n",
       "3      Winter    17520          857.668  2012-03-01  \n",
       "4      Winter    17520          839.702  2012-03-01  \n",
       "...       ...      ...              ...         ...  \n",
       "17515  Winter    17520         1102.942  2012-02-29  \n",
       "17516  Winter    17520         1022.449  2012-02-29  \n",
       "17517  Winter    17520          942.478  2012-02-29  \n",
       "17518  Winter    17520          914.322  2012-02-29  \n",
       "17519  Winter    17520          840.346  2012-02-29  \n",
       "\n",
       "[17520 rows x 13 columns]"
      ]
     },
     "execution_count": 52,
     "metadata": {},
     "output_type": "execute_result"
    }
   ],
   "source": [
    "df5"
   ]
  },
  {
   "cell_type": "code",
   "execution_count": 53,
   "id": "89a3773e",
   "metadata": {},
   "outputs": [
    {
     "data": {
      "text/plain": [
       "Text(0.5, 1.0, 'Consumption by Day')"
      ]
     },
     "execution_count": 53,
     "metadata": {},
     "output_type": "execute_result"
    },
    {
     "data": {
      "image/png": "[encoded data removed]",
      "text/plain": [
       "<Figure size 1200x400 with 1 Axes>"
      ]
     },
     "metadata": {},
     "output_type": "display_data"
    }
   ],
   "source": [
    "#Distribution of total load by day \n",
    "fig, axs = plt.subplots(figsize=(12, 4))\n",
    "df5.groupby(df5[\"Date\"])[\"Total Parameter\"].mean().plot(\n",
    "    kind='bar', rot=0, ax=axs\n",
    ")\n",
    "plt.xlabel(\"Date\");\n",
    "plt.ylabel(\"kW\");\n",
    "plt.title('Consumption by Day')"
   ]
  },
  {
   "cell_type": "code",
   "execution_count": 54,
   "id": "8869de9b",
   "metadata": {},
   "outputs": [
    {
     "data": {
      "text/plain": [
       "Text(0.5, 1.0, 'Consumption by Day')"
      ]
     },
     "execution_count": 54,
     "metadata": {},
     "output_type": "execute_result"
    },
    {
     "data": {
      "image/png": "[encoded data removed]",
      "text/plain": [
       "<Figure size 1200x400 with 1 Axes>"
      ]
     },
     "metadata": {},
     "output_type": "display_data"
    }
   ],
   "source": [
    "#Distribution of total load by day plot 2\n",
    "fig, axs = plt.subplots(figsize=(12, 4))\n",
    "df5.groupby(df5[\"Date\"])[\"Total Parameter\"].mean().plot(\n",
    "    kind='line', rot=0, ax=axs\n",
    ")\n",
    "plt.xlabel(\"Date\");\n",
    "plt.ylabel(\"kW\");\n",
    "plt.title('Consumption by Day')"
   ]
  },
  {
   "cell_type": "code",
   "execution_count": 55,
   "id": "30134aa9",
   "metadata": {
    "scrolled": false
   },
   "outputs": [
    {
     "data": {
      "image/png": "[encoded data removed]",
      "text/plain": [
       "<Figure size 1200x400 with 1 Axes>"
      ]
     },
     "metadata": {},
     "output_type": "display_data"
    }
   ],
   "source": [
    "#Distribution of total load by hour  \n",
    "fig, axs = plt.subplots(figsize=(12, 4))\n",
    "df5.groupby(df5[\"Date and Time of capture\"].dt.hour)[\"Total Parameter\"].mean().plot(\n",
    "    kind='bar', rot=0, ax=axs\n",
    ")\n",
    "plt.xlabel(\"Hour of the day\");\n",
    "plt.ylabel(\"kW\");\n",
    "plt.title('Hourly Load');"
   ]
  },
  {
   "cell_type": "code",
   "execution_count": 56,
   "id": "ab630f11",
   "metadata": {
    "scrolled": true
   },
   "outputs": [
    {
     "data": {
      "image/png": "[encoded data removed]",
      "text/plain": [
       "<Figure size 1200x400 with 1 Axes>"
      ]
     },
     "metadata": {},
     "output_type": "display_data"
    }
   ],
   "source": [
    "#Distribution of total load by day of the week\n",
    "fig, axs = plt.subplots(figsize=(12, 4))\n",
    "df5.groupby(df5[\"DayOfWeek\"])[\"Total Parameter\"].mean().plot(\n",
    "    kind='bar', rot=0, ax=axs\n",
    ")\n",
    "plt.xlabel(\"Day of the Week\");\n",
    "plt.ylabel(\"kW\");\n",
    "plt.title('Day of the Week Load');"
   ]
  },
  {
   "cell_type": "code",
   "execution_count": 57,
   "id": "5173510c",
   "metadata": {},
   "outputs": [
    {
     "data": {
      "image/png": "[encoded data removed]",
      "text/plain": [
       "<Figure size 1200x400 with 1 Axes>"
      ]
     },
     "metadata": {},
     "output_type": "display_data"
    }
   ],
   "source": [
    "#Distribution of total load by month\n",
    "fig, axs = plt.subplots(figsize=(12, 4))\n",
    "df5.groupby(df5[\"Date and Time of capture\"].dt.month)[\"Total Parameter\"].mean().plot(\n",
    "    kind='bar', rot=0, ax=axs\n",
    ")\n",
    "plt.xlabel(\"Month\");\n",
    "plt.ylabel(\"kW\");\n",
    "plt.title('Monthly Load');"
   ]
  },
  {
   "cell_type": "code",
   "execution_count": 58,
   "id": "50790779",
   "metadata": {
    "scrolled": true
   },
   "outputs": [
    {
     "data": {
      "image/png": "[encoded data removed]",
      "text/plain": [
       "<Figure size 1200x500 with 1 Axes>"
      ]
     },
     "metadata": {},
     "output_type": "display_data"
    }
   ],
   "source": [
    "#Boxplot of Day of the Week and Season vs Load\n",
    "fig, ax = plt.subplots(figsize=(12, 5))\n",
    "sns.boxplot(data=df5,\n",
    "            x='DayOfWeek',\n",
    "            y='Total Parameter',\n",
    "            hue='Season',\n",
    "            ax=ax,\n",
    "            linewidth=1,\n",
    "           showfliers= False)\n",
    "ax.set_title('Consumption kW by Day of Week')\n",
    "ax.set_xlabel('Day Of Week')\n",
    "ax.set_ylabel('Energy (kW)')\n",
    "ax.legend(bbox_to_anchor=(1, 1))\n",
    "plt.show()\n"
   ]
  },
  {
   "cell_type": "code",
   "execution_count": 60,
   "id": "255e358c",
   "metadata": {},
   "outputs": [
    {
     "data": {
      "text/html": [
       "<div>\n",
       "<style scoped>\n",
       "    .dataframe tbody tr th:only-of-type {\n",
       "        vertical-align: middle;\n",
       "    }\n",
       "\n",
       "    .dataframe tbody tr th {\n",
       "        vertical-align: top;\n",
       "    }\n",
       "\n",
       "    .dataframe thead th {\n",
       "        text-align: right;\n",
       "    }\n",
       "</style>\n",
       "<table border=\"1\" class=\"dataframe\">\n",
       "  <thead>\n",
       "    <tr style=\"text-align: right;\">\n",
       "      <th></th>\n",
       "      <th>index</th>\n",
       "      <th>Measurement Description</th>\n",
       "      <th>Parameter Type and Units</th>\n",
       "      <th>Date and Time of capture</th>\n",
       "      <th>Month</th>\n",
       "      <th>Year</th>\n",
       "      <th>Quarter</th>\n",
       "      <th>DayOfWeek</th>\n",
       "      <th>Hour</th>\n",
       "      <th>Season</th>\n",
       "      <th>Records</th>\n",
       "      <th>Total Parameter</th>\n",
       "      <th>Date</th>\n",
       "    </tr>\n",
       "  </thead>\n",
       "  <tbody>\n",
       "    <tr>\n",
       "      <th>0</th>\n",
       "      <td>0</td>\n",
       "      <td>Electricity supply meter</td>\n",
       "      <td>Consumption in period [kWh]</td>\n",
       "      <td>2012-03-01 00:00:00</td>\n",
       "      <td>3</td>\n",
       "      <td>2012</td>\n",
       "      <td>1</td>\n",
       "      <td>Thursday</td>\n",
       "      <td>00:00:00</td>\n",
       "      <td>Winter</td>\n",
       "      <td>17520</td>\n",
       "      <td>809.373</td>\n",
       "      <td>2012-03-01</td>\n",
       "    </tr>\n",
       "    <tr>\n",
       "      <th>1</th>\n",
       "      <td>910</td>\n",
       "      <td>Electricity supply meter</td>\n",
       "      <td>Consumption in period [kWh]</td>\n",
       "      <td>2012-03-01 00:30:00</td>\n",
       "      <td>3</td>\n",
       "      <td>2012</td>\n",
       "      <td>1</td>\n",
       "      <td>Thursday</td>\n",
       "      <td>00:30:00</td>\n",
       "      <td>Winter</td>\n",
       "      <td>17520</td>\n",
       "      <td>793.537</td>\n",
       "      <td>2012-03-01</td>\n",
       "    </tr>\n",
       "    <tr>\n",
       "      <th>2</th>\n",
       "      <td>1820</td>\n",
       "      <td>Electricity supply meter</td>\n",
       "      <td>Consumption in period [kWh]</td>\n",
       "      <td>2012-03-01 01:00:00</td>\n",
       "      <td>3</td>\n",
       "      <td>2012</td>\n",
       "      <td>1</td>\n",
       "      <td>Thursday</td>\n",
       "      <td>01:00:00</td>\n",
       "      <td>Winter</td>\n",
       "      <td>17520</td>\n",
       "      <td>884.144</td>\n",
       "      <td>2012-03-01</td>\n",
       "    </tr>\n",
       "    <tr>\n",
       "      <th>3</th>\n",
       "      <td>2730</td>\n",
       "      <td>Electricity supply meter</td>\n",
       "      <td>Consumption in period [kWh]</td>\n",
       "      <td>2012-03-01 01:30:00</td>\n",
       "      <td>3</td>\n",
       "      <td>2012</td>\n",
       "      <td>1</td>\n",
       "      <td>Thursday</td>\n",
       "      <td>01:30:00</td>\n",
       "      <td>Winter</td>\n",
       "      <td>17520</td>\n",
       "      <td>857.668</td>\n",
       "      <td>2012-03-01</td>\n",
       "    </tr>\n",
       "    <tr>\n",
       "      <th>4</th>\n",
       "      <td>3640</td>\n",
       "      <td>Electricity supply meter</td>\n",
       "      <td>Consumption in period [kWh]</td>\n",
       "      <td>2012-03-01 02:00:00</td>\n",
       "      <td>3</td>\n",
       "      <td>2012</td>\n",
       "      <td>1</td>\n",
       "      <td>Thursday</td>\n",
       "      <td>02:00:00</td>\n",
       "      <td>Winter</td>\n",
       "      <td>17520</td>\n",
       "      <td>839.702</td>\n",
       "      <td>2012-03-01</td>\n",
       "    </tr>\n",
       "    <tr>\n",
       "      <th>...</th>\n",
       "      <td>...</td>\n",
       "      <td>...</td>\n",
       "      <td>...</td>\n",
       "      <td>...</td>\n",
       "      <td>...</td>\n",
       "      <td>...</td>\n",
       "      <td>...</td>\n",
       "      <td>...</td>\n",
       "      <td>...</td>\n",
       "      <td>...</td>\n",
       "      <td>...</td>\n",
       "      <td>...</td>\n",
       "      <td>...</td>\n",
       "    </tr>\n",
       "    <tr>\n",
       "      <th>17515</th>\n",
       "      <td>15938650</td>\n",
       "      <td>Electricity supply meter</td>\n",
       "      <td>Consumption in period [kWh]</td>\n",
       "      <td>2012-02-29 21:30:00</td>\n",
       "      <td>2</td>\n",
       "      <td>2012</td>\n",
       "      <td>1</td>\n",
       "      <td>Wednesday</td>\n",
       "      <td>21:30:00</td>\n",
       "      <td>Winter</td>\n",
       "      <td>17520</td>\n",
       "      <td>1102.942</td>\n",
       "      <td>2012-02-29</td>\n",
       "    </tr>\n",
       "    <tr>\n",
       "      <th>17516</th>\n",
       "      <td>15939560</td>\n",
       "      <td>Electricity supply meter</td>\n",
       "      <td>Consumption in period [kWh]</td>\n",
       "      <td>2012-02-29 22:00:00</td>\n",
       "      <td>2</td>\n",
       "      <td>2012</td>\n",
       "      <td>1</td>\n",
       "      <td>Wednesday</td>\n",
       "      <td>22:00:00</td>\n",
       "      <td>Winter</td>\n",
       "      <td>17520</td>\n",
       "      <td>1022.449</td>\n",
       "      <td>2012-02-29</td>\n",
       "    </tr>\n",
       "    <tr>\n",
       "      <th>17517</th>\n",
       "      <td>15940470</td>\n",
       "      <td>Electricity supply meter</td>\n",
       "      <td>Consumption in period [kWh]</td>\n",
       "      <td>2012-02-29 22:30:00</td>\n",
       "      <td>2</td>\n",
       "      <td>2012</td>\n",
       "      <td>1</td>\n",
       "      <td>Wednesday</td>\n",
       "      <td>22:30:00</td>\n",
       "      <td>Winter</td>\n",
       "      <td>17520</td>\n",
       "      <td>942.478</td>\n",
       "      <td>2012-02-29</td>\n",
       "    </tr>\n",
       "    <tr>\n",
       "      <th>17518</th>\n",
       "      <td>15941380</td>\n",
       "      <td>Electricity supply meter</td>\n",
       "      <td>Consumption in period [kWh]</td>\n",
       "      <td>2012-02-29 23:00:00</td>\n",
       "      <td>2</td>\n",
       "      <td>2012</td>\n",
       "      <td>1</td>\n",
       "      <td>Wednesday</td>\n",
       "      <td>23:00:00</td>\n",
       "      <td>Winter</td>\n",
       "      <td>17520</td>\n",
       "      <td>914.322</td>\n",
       "      <td>2012-02-29</td>\n",
       "    </tr>\n",
       "    <tr>\n",
       "      <th>17519</th>\n",
       "      <td>15942290</td>\n",
       "      <td>Electricity supply meter</td>\n",
       "      <td>Consumption in period [kWh]</td>\n",
       "      <td>2012-02-29 23:30:00</td>\n",
       "      <td>2</td>\n",
       "      <td>2012</td>\n",
       "      <td>1</td>\n",
       "      <td>Wednesday</td>\n",
       "      <td>23:30:00</td>\n",
       "      <td>Winter</td>\n",
       "      <td>17520</td>\n",
       "      <td>840.346</td>\n",
       "      <td>2012-02-29</td>\n",
       "    </tr>\n",
       "  </tbody>\n",
       "</table>\n",
       "<p>17520 rows × 13 columns</p>\n",
       "</div>"
      ],
      "text/plain": [
       "          index   Measurement Description     Parameter Type and Units  \\\n",
       "0             0  Electricity supply meter  Consumption in period [kWh]   \n",
       "1           910  Electricity supply meter  Consumption in period [kWh]   \n",
       "2          1820  Electricity supply meter  Consumption in period [kWh]   \n",
       "3          2730  Electricity supply meter  Consumption in period [kWh]   \n",
       "4          3640  Electricity supply meter  Consumption in period [kWh]   \n",
       "...         ...                       ...                          ...   \n",
       "17515  15938650  Electricity supply meter  Consumption in period [kWh]   \n",
       "17516  15939560  Electricity supply meter  Consumption in period [kWh]   \n",
       "17517  15940470  Electricity supply meter  Consumption in period [kWh]   \n",
       "17518  15941380  Electricity supply meter  Consumption in period [kWh]   \n",
       "17519  15942290  Electricity supply meter  Consumption in period [kWh]   \n",
       "\n",
       "      Date and Time of capture  Month  Year  Quarter  DayOfWeek      Hour  \\\n",
       "0          2012-03-01 00:00:00      3  2012        1   Thursday  00:00:00   \n",
       "1          2012-03-01 00:30:00      3  2012        1   Thursday  00:30:00   \n",
       "2          2012-03-01 01:00:00      3  2012        1   Thursday  01:00:00   \n",
       "3          2012-03-01 01:30:00      3  2012        1   Thursday  01:30:00   \n",
       "4          2012-03-01 02:00:00      3  2012        1   Thursday  02:00:00   \n",
       "...                        ...    ...   ...      ...        ...       ...   \n",
       "17515      2012-02-29 21:30:00      2  2012        1  Wednesday  21:30:00   \n",
       "17516      2012-02-29 22:00:00      2  2012        1  Wednesday  22:00:00   \n",
       "17517      2012-02-29 22:30:00      2  2012        1  Wednesday  22:30:00   \n",
       "17518      2012-02-29 23:00:00      2  2012        1  Wednesday  23:00:00   \n",
       "17519      2012-02-29 23:30:00      2  2012        1  Wednesday  23:30:00   \n",
       "\n",
       "       Season  Records  Total Parameter        Date  \n",
       "0      Winter    17520          809.373  2012-03-01  \n",
       "1      Winter    17520          793.537  2012-03-01  \n",
       "2      Winter    17520          884.144  2012-03-01  \n",
       "3      Winter    17520          857.668  2012-03-01  \n",
       "4      Winter    17520          839.702  2012-03-01  \n",
       "...       ...      ...              ...         ...  \n",
       "17515  Winter    17520         1102.942  2012-02-29  \n",
       "17516  Winter    17520         1022.449  2012-02-29  \n",
       "17517  Winter    17520          942.478  2012-02-29  \n",
       "17518  Winter    17520          914.322  2012-02-29  \n",
       "17519  Winter    17520          840.346  2012-02-29  \n",
       "\n",
       "[17520 rows x 13 columns]"
      ]
     },
     "execution_count": 60,
     "metadata": {},
     "output_type": "execute_result"
    }
   ],
   "source": [
    "df5"
   ]
  },
  {
   "cell_type": "code",
   "execution_count": 59,
   "id": "339675b8",
   "metadata": {},
   "outputs": [],
   "source": [
    "df5.to_csv(\"C:/Users/nanan/FinalData.csv\")\n",
    "df5.to_csv(\"C:/Users/nanan/Masters/Nana/Dissertation/DataCleaning/FinalData.csv\")"
   ]
  }
 ],
 "metadata": {
  "kernelspec": {
   "display_name": "Python 3 (ipykernel)",
   "language": "python",
   "name": "python3"
  },
  "language_info": {
   "codemirror_mode": {
    "name": "ipython",
    "version": 3
   },
   "file_extension": ".py",
   "mimetype": "text/x-python",
   "name": "python",
   "nbconvert_exporter": "python",
   "pygments_lexer": "ipython3",
   "version": "3.10.9"
  }
 },
 "nbformat": 4,
 "nbformat_minor": 5
}
